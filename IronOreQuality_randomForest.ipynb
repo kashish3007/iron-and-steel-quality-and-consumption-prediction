{
 "cells": [
  {
   "cell_type": "code",
   "execution_count": 8,
   "id": "713ed8db",
   "metadata": {},
   "outputs": [],
   "source": [
    "import numpy as np\n",
    "import matplotlib.pyplot as plt\n",
    "import pandas as pd\n",
    "import seaborn as sns"
   ]
  },
  {
   "cell_type": "code",
   "execution_count": 9,
   "id": "4f0d716e",
   "metadata": {},
   "outputs": [
    {
     "data": {
      "text/html": [
       "<div>\n",
       "<style scoped>\n",
       "    .dataframe tbody tr th:only-of-type {\n",
       "        vertical-align: middle;\n",
       "    }\n",
       "\n",
       "    .dataframe tbody tr th {\n",
       "        vertical-align: top;\n",
       "    }\n",
       "\n",
       "    .dataframe thead th {\n",
       "        text-align: right;\n",
       "    }\n",
       "</style>\n",
       "<table border=\"1\" class=\"dataframe\">\n",
       "  <thead>\n",
       "    <tr style=\"text-align: right;\">\n",
       "      <th></th>\n",
       "      <th>date</th>\n",
       "      <th>% Iron Feed</th>\n",
       "      <th>% Silica Feed</th>\n",
       "      <th>Starch Flow</th>\n",
       "      <th>Amina Flow</th>\n",
       "      <th>Ore Pulp Flow</th>\n",
       "      <th>Ore Pulp pH</th>\n",
       "      <th>Ore Pulp Density</th>\n",
       "      <th>Flotation Column 01 Air Flow</th>\n",
       "      <th>Flotation Column 02 Air Flow</th>\n",
       "      <th>...</th>\n",
       "      <th>Flotation Column 07 Air Flow</th>\n",
       "      <th>Flotation Column 01 Level</th>\n",
       "      <th>Flotation Column 02 Level</th>\n",
       "      <th>Flotation Column 03 Level</th>\n",
       "      <th>Flotation Column 04 Level</th>\n",
       "      <th>Flotation Column 05 Level</th>\n",
       "      <th>Flotation Column 06 Level</th>\n",
       "      <th>Flotation Column 07 Level</th>\n",
       "      <th>% Iron Concentrate</th>\n",
       "      <th>% Silica Concentrate</th>\n",
       "    </tr>\n",
       "  </thead>\n",
       "  <tbody>\n",
       "    <tr>\n",
       "      <th>0</th>\n",
       "      <td>2017-03-10 01:00:00</td>\n",
       "      <td>55.20</td>\n",
       "      <td>16.98</td>\n",
       "      <td>3019.53</td>\n",
       "      <td>557.434</td>\n",
       "      <td>395.713</td>\n",
       "      <td>10.06640</td>\n",
       "      <td>1.74000</td>\n",
       "      <td>249.214</td>\n",
       "      <td>253.235</td>\n",
       "      <td>...</td>\n",
       "      <td>250.884</td>\n",
       "      <td>457.396</td>\n",
       "      <td>432.962</td>\n",
       "      <td>424.954</td>\n",
       "      <td>443.558</td>\n",
       "      <td>502.255</td>\n",
       "      <td>446.370</td>\n",
       "      <td>523.344</td>\n",
       "      <td>66.91</td>\n",
       "      <td>1.31</td>\n",
       "    </tr>\n",
       "    <tr>\n",
       "      <th>1</th>\n",
       "      <td>2017-03-10 01:00:00</td>\n",
       "      <td>55.20</td>\n",
       "      <td>16.98</td>\n",
       "      <td>3024.41</td>\n",
       "      <td>563.965</td>\n",
       "      <td>397.383</td>\n",
       "      <td>10.06720</td>\n",
       "      <td>1.74000</td>\n",
       "      <td>249.719</td>\n",
       "      <td>250.532</td>\n",
       "      <td>...</td>\n",
       "      <td>248.994</td>\n",
       "      <td>451.891</td>\n",
       "      <td>429.560</td>\n",
       "      <td>432.939</td>\n",
       "      <td>448.086</td>\n",
       "      <td>496.363</td>\n",
       "      <td>445.922</td>\n",
       "      <td>498.075</td>\n",
       "      <td>66.91</td>\n",
       "      <td>1.31</td>\n",
       "    </tr>\n",
       "    <tr>\n",
       "      <th>2</th>\n",
       "      <td>2017-03-10 01:00:00</td>\n",
       "      <td>55.20</td>\n",
       "      <td>16.98</td>\n",
       "      <td>3043.46</td>\n",
       "      <td>568.054</td>\n",
       "      <td>399.668</td>\n",
       "      <td>10.06800</td>\n",
       "      <td>1.74000</td>\n",
       "      <td>249.741</td>\n",
       "      <td>247.874</td>\n",
       "      <td>...</td>\n",
       "      <td>248.071</td>\n",
       "      <td>451.240</td>\n",
       "      <td>468.927</td>\n",
       "      <td>434.610</td>\n",
       "      <td>449.688</td>\n",
       "      <td>484.411</td>\n",
       "      <td>447.826</td>\n",
       "      <td>458.567</td>\n",
       "      <td>66.91</td>\n",
       "      <td>1.31</td>\n",
       "    </tr>\n",
       "    <tr>\n",
       "      <th>3</th>\n",
       "      <td>2017-03-10 01:00:00</td>\n",
       "      <td>55.20</td>\n",
       "      <td>16.98</td>\n",
       "      <td>3047.36</td>\n",
       "      <td>568.665</td>\n",
       "      <td>397.939</td>\n",
       "      <td>10.06890</td>\n",
       "      <td>1.74000</td>\n",
       "      <td>249.917</td>\n",
       "      <td>254.487</td>\n",
       "      <td>...</td>\n",
       "      <td>251.147</td>\n",
       "      <td>452.441</td>\n",
       "      <td>458.165</td>\n",
       "      <td>442.865</td>\n",
       "      <td>446.210</td>\n",
       "      <td>471.411</td>\n",
       "      <td>437.690</td>\n",
       "      <td>427.669</td>\n",
       "      <td>66.91</td>\n",
       "      <td>1.31</td>\n",
       "    </tr>\n",
       "    <tr>\n",
       "      <th>4</th>\n",
       "      <td>2017-03-10 01:00:00</td>\n",
       "      <td>55.20</td>\n",
       "      <td>16.98</td>\n",
       "      <td>3033.69</td>\n",
       "      <td>558.167</td>\n",
       "      <td>400.254</td>\n",
       "      <td>10.06970</td>\n",
       "      <td>1.74000</td>\n",
       "      <td>250.203</td>\n",
       "      <td>252.136</td>\n",
       "      <td>...</td>\n",
       "      <td>248.928</td>\n",
       "      <td>452.441</td>\n",
       "      <td>452.900</td>\n",
       "      <td>450.523</td>\n",
       "      <td>453.670</td>\n",
       "      <td>462.598</td>\n",
       "      <td>443.682</td>\n",
       "      <td>425.679</td>\n",
       "      <td>66.91</td>\n",
       "      <td>1.31</td>\n",
       "    </tr>\n",
       "    <tr>\n",
       "      <th>...</th>\n",
       "      <td>...</td>\n",
       "      <td>...</td>\n",
       "      <td>...</td>\n",
       "      <td>...</td>\n",
       "      <td>...</td>\n",
       "      <td>...</td>\n",
       "      <td>...</td>\n",
       "      <td>...</td>\n",
       "      <td>...</td>\n",
       "      <td>...</td>\n",
       "      <td>...</td>\n",
       "      <td>...</td>\n",
       "      <td>...</td>\n",
       "      <td>...</td>\n",
       "      <td>...</td>\n",
       "      <td>...</td>\n",
       "      <td>...</td>\n",
       "      <td>...</td>\n",
       "      <td>...</td>\n",
       "      <td>...</td>\n",
       "      <td>...</td>\n",
       "    </tr>\n",
       "    <tr>\n",
       "      <th>737448</th>\n",
       "      <td>2017-09-09 23:00:00</td>\n",
       "      <td>49.75</td>\n",
       "      <td>23.20</td>\n",
       "      <td>2710.94</td>\n",
       "      <td>441.052</td>\n",
       "      <td>386.570</td>\n",
       "      <td>9.62129</td>\n",
       "      <td>1.65365</td>\n",
       "      <td>302.344</td>\n",
       "      <td>298.786</td>\n",
       "      <td>...</td>\n",
       "      <td>313.695</td>\n",
       "      <td>392.160</td>\n",
       "      <td>430.702</td>\n",
       "      <td>872.008</td>\n",
       "      <td>418.725</td>\n",
       "      <td>497.548</td>\n",
       "      <td>446.357</td>\n",
       "      <td>416.892</td>\n",
       "      <td>64.27</td>\n",
       "      <td>1.71</td>\n",
       "    </tr>\n",
       "    <tr>\n",
       "      <th>737449</th>\n",
       "      <td>2017-09-09 23:00:00</td>\n",
       "      <td>49.75</td>\n",
       "      <td>23.20</td>\n",
       "      <td>2692.01</td>\n",
       "      <td>473.436</td>\n",
       "      <td>384.939</td>\n",
       "      <td>9.62063</td>\n",
       "      <td>1.65352</td>\n",
       "      <td>303.013</td>\n",
       "      <td>301.879</td>\n",
       "      <td>...</td>\n",
       "      <td>236.700</td>\n",
       "      <td>401.505</td>\n",
       "      <td>404.616</td>\n",
       "      <td>864.409</td>\n",
       "      <td>418.377</td>\n",
       "      <td>506.398</td>\n",
       "      <td>372.995</td>\n",
       "      <td>426.337</td>\n",
       "      <td>64.27</td>\n",
       "      <td>1.71</td>\n",
       "    </tr>\n",
       "    <tr>\n",
       "      <th>737450</th>\n",
       "      <td>2017-09-09 23:00:00</td>\n",
       "      <td>49.75</td>\n",
       "      <td>23.20</td>\n",
       "      <td>2692.20</td>\n",
       "      <td>500.488</td>\n",
       "      <td>383.496</td>\n",
       "      <td>9.61874</td>\n",
       "      <td>1.65338</td>\n",
       "      <td>303.662</td>\n",
       "      <td>307.397</td>\n",
       "      <td>...</td>\n",
       "      <td>225.879</td>\n",
       "      <td>408.899</td>\n",
       "      <td>399.316</td>\n",
       "      <td>867.598</td>\n",
       "      <td>419.531</td>\n",
       "      <td>503.414</td>\n",
       "      <td>336.035</td>\n",
       "      <td>433.130</td>\n",
       "      <td>64.27</td>\n",
       "      <td>1.71</td>\n",
       "    </tr>\n",
       "    <tr>\n",
       "      <th>737451</th>\n",
       "      <td>2017-09-09 23:00:00</td>\n",
       "      <td>49.75</td>\n",
       "      <td>23.20</td>\n",
       "      <td>1164.12</td>\n",
       "      <td>491.548</td>\n",
       "      <td>384.976</td>\n",
       "      <td>9.61686</td>\n",
       "      <td>1.65324</td>\n",
       "      <td>302.550</td>\n",
       "      <td>301.959</td>\n",
       "      <td>...</td>\n",
       "      <td>308.115</td>\n",
       "      <td>405.107</td>\n",
       "      <td>466.832</td>\n",
       "      <td>876.591</td>\n",
       "      <td>407.299</td>\n",
       "      <td>502.301</td>\n",
       "      <td>340.844</td>\n",
       "      <td>433.966</td>\n",
       "      <td>64.27</td>\n",
       "      <td>1.71</td>\n",
       "    </tr>\n",
       "    <tr>\n",
       "      <th>737452</th>\n",
       "      <td>2017-09-09 23:00:00</td>\n",
       "      <td>49.75</td>\n",
       "      <td>23.20</td>\n",
       "      <td>1164.12</td>\n",
       "      <td>468.019</td>\n",
       "      <td>384.801</td>\n",
       "      <td>9.61497</td>\n",
       "      <td>1.65310</td>\n",
       "      <td>300.355</td>\n",
       "      <td>292.865</td>\n",
       "      <td>...</td>\n",
       "      <td>308.115</td>\n",
       "      <td>413.754</td>\n",
       "      <td>514.143</td>\n",
       "      <td>881.323</td>\n",
       "      <td>378.969</td>\n",
       "      <td>500.100</td>\n",
       "      <td>374.354</td>\n",
       "      <td>441.182</td>\n",
       "      <td>64.27</td>\n",
       "      <td>1.71</td>\n",
       "    </tr>\n",
       "  </tbody>\n",
       "</table>\n",
       "<p>737453 rows × 24 columns</p>\n",
       "</div>"
      ],
      "text/plain": [
       "                      date  % Iron Feed  % Silica Feed  Starch Flow  \\\n",
       "0      2017-03-10 01:00:00        55.20          16.98      3019.53   \n",
       "1      2017-03-10 01:00:00        55.20          16.98      3024.41   \n",
       "2      2017-03-10 01:00:00        55.20          16.98      3043.46   \n",
       "3      2017-03-10 01:00:00        55.20          16.98      3047.36   \n",
       "4      2017-03-10 01:00:00        55.20          16.98      3033.69   \n",
       "...                    ...          ...            ...          ...   \n",
       "737448 2017-09-09 23:00:00        49.75          23.20      2710.94   \n",
       "737449 2017-09-09 23:00:00        49.75          23.20      2692.01   \n",
       "737450 2017-09-09 23:00:00        49.75          23.20      2692.20   \n",
       "737451 2017-09-09 23:00:00        49.75          23.20      1164.12   \n",
       "737452 2017-09-09 23:00:00        49.75          23.20      1164.12   \n",
       "\n",
       "        Amina Flow  Ore Pulp Flow  Ore Pulp pH  Ore Pulp Density  \\\n",
       "0          557.434        395.713     10.06640           1.74000   \n",
       "1          563.965        397.383     10.06720           1.74000   \n",
       "2          568.054        399.668     10.06800           1.74000   \n",
       "3          568.665        397.939     10.06890           1.74000   \n",
       "4          558.167        400.254     10.06970           1.74000   \n",
       "...            ...            ...          ...               ...   \n",
       "737448     441.052        386.570      9.62129           1.65365   \n",
       "737449     473.436        384.939      9.62063           1.65352   \n",
       "737450     500.488        383.496      9.61874           1.65338   \n",
       "737451     491.548        384.976      9.61686           1.65324   \n",
       "737452     468.019        384.801      9.61497           1.65310   \n",
       "\n",
       "        Flotation Column 01 Air Flow  Flotation Column 02 Air Flow  ...  \\\n",
       "0                            249.214                       253.235  ...   \n",
       "1                            249.719                       250.532  ...   \n",
       "2                            249.741                       247.874  ...   \n",
       "3                            249.917                       254.487  ...   \n",
       "4                            250.203                       252.136  ...   \n",
       "...                              ...                           ...  ...   \n",
       "737448                       302.344                       298.786  ...   \n",
       "737449                       303.013                       301.879  ...   \n",
       "737450                       303.662                       307.397  ...   \n",
       "737451                       302.550                       301.959  ...   \n",
       "737452                       300.355                       292.865  ...   \n",
       "\n",
       "        Flotation Column 07 Air Flow  Flotation Column 01 Level  \\\n",
       "0                            250.884                    457.396   \n",
       "1                            248.994                    451.891   \n",
       "2                            248.071                    451.240   \n",
       "3                            251.147                    452.441   \n",
       "4                            248.928                    452.441   \n",
       "...                              ...                        ...   \n",
       "737448                       313.695                    392.160   \n",
       "737449                       236.700                    401.505   \n",
       "737450                       225.879                    408.899   \n",
       "737451                       308.115                    405.107   \n",
       "737452                       308.115                    413.754   \n",
       "\n",
       "        Flotation Column 02 Level  Flotation Column 03 Level  \\\n",
       "0                         432.962                    424.954   \n",
       "1                         429.560                    432.939   \n",
       "2                         468.927                    434.610   \n",
       "3                         458.165                    442.865   \n",
       "4                         452.900                    450.523   \n",
       "...                           ...                        ...   \n",
       "737448                    430.702                    872.008   \n",
       "737449                    404.616                    864.409   \n",
       "737450                    399.316                    867.598   \n",
       "737451                    466.832                    876.591   \n",
       "737452                    514.143                    881.323   \n",
       "\n",
       "        Flotation Column 04 Level  Flotation Column 05 Level  \\\n",
       "0                         443.558                    502.255   \n",
       "1                         448.086                    496.363   \n",
       "2                         449.688                    484.411   \n",
       "3                         446.210                    471.411   \n",
       "4                         453.670                    462.598   \n",
       "...                           ...                        ...   \n",
       "737448                    418.725                    497.548   \n",
       "737449                    418.377                    506.398   \n",
       "737450                    419.531                    503.414   \n",
       "737451                    407.299                    502.301   \n",
       "737452                    378.969                    500.100   \n",
       "\n",
       "        Flotation Column 06 Level  Flotation Column 07 Level  \\\n",
       "0                         446.370                    523.344   \n",
       "1                         445.922                    498.075   \n",
       "2                         447.826                    458.567   \n",
       "3                         437.690                    427.669   \n",
       "4                         443.682                    425.679   \n",
       "...                           ...                        ...   \n",
       "737448                    446.357                    416.892   \n",
       "737449                    372.995                    426.337   \n",
       "737450                    336.035                    433.130   \n",
       "737451                    340.844                    433.966   \n",
       "737452                    374.354                    441.182   \n",
       "\n",
       "        % Iron Concentrate  % Silica Concentrate  \n",
       "0                    66.91                  1.31  \n",
       "1                    66.91                  1.31  \n",
       "2                    66.91                  1.31  \n",
       "3                    66.91                  1.31  \n",
       "4                    66.91                  1.31  \n",
       "...                    ...                   ...  \n",
       "737448               64.27                  1.71  \n",
       "737449               64.27                  1.71  \n",
       "737450               64.27                  1.71  \n",
       "737451               64.27                  1.71  \n",
       "737452               64.27                  1.71  \n",
       "\n",
       "[737453 rows x 24 columns]"
      ]
     },
     "execution_count": 9,
     "metadata": {},
     "output_type": "execute_result"
    }
   ],
   "source": [
    "df = pd.read_csv('ironOreQuality.csv', decimal = ',',parse_dates = ['date'] )\n",
    "df"
   ]
  },
  {
   "cell_type": "code",
   "execution_count": 10,
   "id": "748c0e11",
   "metadata": {},
   "outputs": [
    {
     "data": {
      "text/plain": [
       "2.326763251352968"
      ]
     },
     "execution_count": 10,
     "metadata": {},
     "output_type": "execute_result"
    }
   ],
   "source": [
    "#let us find the % concentration of Silica\n",
    "df['% Silica Concentrate'].mean()"
   ]
  },
  {
   "cell_type": "code",
   "execution_count": 11,
   "id": "d88ab0d2",
   "metadata": {},
   "outputs": [
    {
     "data": {
      "text/plain": [
       "68.01"
      ]
     },
     "execution_count": 11,
     "metadata": {},
     "output_type": "execute_result"
    }
   ],
   "source": [
    "#max % of iron \n",
    "df['% Iron Concentrate'].max()"
   ]
  },
  {
   "cell_type": "code",
   "execution_count": 13,
   "id": "ece26887",
   "metadata": {},
   "outputs": [
    {
     "data": {
      "image/png": "[encoded data removed]",
      "text/plain": [
       "<Figure size 640x480 with 1 Axes>"
      ]
     },
     "metadata": {},
     "output_type": "display_data"
    }
   ],
   "source": [
    "sns.scatterplot(x='% Silica Feed', y='% Iron Feed', data=df)\n",
    "plt.xlabel('Silica Feed(%)')\n",
    "plt.ylabel('Iron Feed(%)')\n",
    "plt.title('Relationship between Silica and Iron Feed')\n",
    "plt.show()"
   ]
  },
  {
   "cell_type": "code",
   "execution_count": 14,
   "id": "395364b3",
   "metadata": {},
   "outputs": [],
   "source": [
    "#We see they are perfectly inversely correlated. That means when Iron feed(%) goes down, \n",
    "#the percentage of silica feed goes up."
   ]
  },
  {
   "cell_type": "code",
   "execution_count": 15,
   "id": "e3473c80",
   "metadata": {},
   "outputs": [],
   "source": [
    "df_iron = df.drop(columns = ['date', '% Silica Concentrate'])\n",
    "df_iron_target = df['% Silica Concentrate']"
   ]
  },
  {
   "cell_type": "code",
   "execution_count": 16,
   "id": "e6e38170",
   "metadata": {},
   "outputs": [],
   "source": [
    "df_iron = np.array(df_iron)\n",
    "df_iron_target = np.array(df_iron_target)"
   ]
  },
  {
   "cell_type": "code",
   "execution_count": 18,
   "id": "30f1b5d1",
   "metadata": {},
   "outputs": [
    {
     "data": {
      "text/plain": [
       "(737453, 1)"
      ]
     },
     "execution_count": 18,
     "metadata": {},
     "output_type": "execute_result"
    }
   ],
   "source": [
    "#reshaping the array\n",
    "df_iron_target = df_iron_target.reshape(-1,1)\n",
    "df_iron_target.shape"
   ]
  },
  {
   "cell_type": "code",
   "execution_count": 19,
   "id": "09d32d9d",
   "metadata": {},
   "outputs": [
    {
     "data": {
      "text/plain": [
       "((589962, 22), (147491, 22))"
      ]
     },
     "execution_count": 19,
     "metadata": {},
     "output_type": "execute_result"
    }
   ],
   "source": [
    "from sklearn.model_selection import train_test_split\n",
    "X_train, X_test, Y_train, Y_test = train_test_split(df_iron, df_iron_target, test_size=0.2)\n",
    "X_train.shape, X_test.shape"
   ]
  },
  {
   "cell_type": "code",
   "execution_count": 20,
   "id": "6a6f7d53",
   "metadata": {},
   "outputs": [],
   "source": [
    "from sklearn.preprocessing import StandardScaler, MinMaxScaler\n",
    "scaler = StandardScaler()\n",
    "X_train_scaled = scaler.fit_transform(X_train)\n",
    "X_test_scaled = scaler.transform(X_test)"
   ]
  },
  {
   "cell_type": "code",
   "execution_count": 21,
   "id": "de9eb55e",
   "metadata": {},
   "outputs": [],
   "source": [
    "#Baselining with Linear Regression Model"
   ]
  },
  {
   "cell_type": "code",
   "execution_count": 22,
   "id": "8b0472b3",
   "metadata": {},
   "outputs": [],
   "source": [
    "from sklearn.linear_model import LinearRegression\n",
    "from sklearn.metrics import mean_squared_error, accuracy_score"
   ]
  },
  {
   "cell_type": "code",
   "execution_count": 23,
   "id": "25027d6b",
   "metadata": {},
   "outputs": [
    {
     "data": {
      "text/html": [
       "<style>#sk-container-id-1 {color: black;background-color: white;}#sk-container-id-1 pre{padding: 0;}#sk-container-id-1 div.sk-toggleable {background-color: white;}#sk-container-id-1 label.sk-toggleable__label {cursor: pointer;display: block;width: 100%;margin-bottom: 0;padding: 0.3em;box-sizing: border-box;text-align: center;}#sk-container-id-1 label.sk-toggleable__label-arrow:before {content: \"▸\";float: left;margin-right: 0.25em;color: #696969;}#sk-container-id-1 label.sk-toggleable__label-arrow:hover:before {color: black;}#sk-container-id-1 div.sk-estimator:hover label.sk-toggleable__label-arrow:before {color: black;}#sk-container-id-1 div.sk-toggleable__content {max-height: 0;max-width: 0;overflow: hidden;text-align: left;background-color: #f0f8ff;}#sk-container-id-1 div.sk-toggleable__content pre {margin: 0.2em;color: black;border-radius: 0.25em;background-color: #f0f8ff;}#sk-container-id-1 input.sk-toggleable__control:checked~div.sk-toggleable__content {max-height: 200px;max-width: 100%;overflow: auto;}#sk-container-id-1 input.sk-toggleable__control:checked~label.sk-toggleable__label-arrow:before {content: \"▾\";}#sk-container-id-1 div.sk-estimator input.sk-toggleable__control:checked~label.sk-toggleable__label {background-color: #d4ebff;}#sk-container-id-1 div.sk-label input.sk-toggleable__control:checked~label.sk-toggleable__label {background-color: #d4ebff;}#sk-container-id-1 input.sk-hidden--visually {border: 0;clip: rect(1px 1px 1px 1px);clip: rect(1px, 1px, 1px, 1px);height: 1px;margin: -1px;overflow: hidden;padding: 0;position: absolute;width: 1px;}#sk-container-id-1 div.sk-estimator {font-family: monospace;background-color: #f0f8ff;border: 1px dotted black;border-radius: 0.25em;box-sizing: border-box;margin-bottom: 0.5em;}#sk-container-id-1 div.sk-estimator:hover {background-color: #d4ebff;}#sk-container-id-1 div.sk-parallel-item::after {content: \"\";width: 100%;border-bottom: 1px solid gray;flex-grow: 1;}#sk-container-id-1 div.sk-label:hover label.sk-toggleable__label {background-color: #d4ebff;}#sk-container-id-1 div.sk-serial::before {content: \"\";position: absolute;border-left: 1px solid gray;box-sizing: border-box;top: 0;bottom: 0;left: 50%;z-index: 0;}#sk-container-id-1 div.sk-serial {display: flex;flex-direction: column;align-items: center;background-color: white;padding-right: 0.2em;padding-left: 0.2em;position: relative;}#sk-container-id-1 div.sk-item {position: relative;z-index: 1;}#sk-container-id-1 div.sk-parallel {display: flex;align-items: stretch;justify-content: center;background-color: white;position: relative;}#sk-container-id-1 div.sk-item::before, #sk-container-id-1 div.sk-parallel-item::before {content: \"\";position: absolute;border-left: 1px solid gray;box-sizing: border-box;top: 0;bottom: 0;left: 50%;z-index: -1;}#sk-container-id-1 div.sk-parallel-item {display: flex;flex-direction: column;z-index: 1;position: relative;background-color: white;}#sk-container-id-1 div.sk-parallel-item:first-child::after {align-self: flex-end;width: 50%;}#sk-container-id-1 div.sk-parallel-item:last-child::after {align-self: flex-start;width: 50%;}#sk-container-id-1 div.sk-parallel-item:only-child::after {width: 0;}#sk-container-id-1 div.sk-dashed-wrapped {border: 1px dashed gray;margin: 0 0.4em 0.5em 0.4em;box-sizing: border-box;padding-bottom: 0.4em;background-color: white;}#sk-container-id-1 div.sk-label label {font-family: monospace;font-weight: bold;display: inline-block;line-height: 1.2em;}#sk-container-id-1 div.sk-label-container {text-align: center;}#sk-container-id-1 div.sk-container {/* jupyter's `normalize.less` sets `[hidden] { display: none; }` but bootstrap.min.css set `[hidden] { display: none !important; }` so we also need the `!important` here to be able to override the default hidden behavior on the sphinx rendered scikit-learn.org. See: https://github.com/scikit-learn/scikit-learn/issues/21755 */display: inline-block !important;position: relative;}#sk-container-id-1 div.sk-text-repr-fallback {display: none;}</style><div id=\"sk-container-id-1\" class=\"sk-top-container\"><div class=\"sk-text-repr-fallback\"><pre>LinearRegression()</pre><b>In a Jupyter environment, please rerun this cell to show the HTML representation or trust the notebook. <br />On GitHub, the HTML representation is unable to render, please try loading this page with nbviewer.org.</b></div><div class=\"sk-container\" hidden><div class=\"sk-item\"><div class=\"sk-estimator sk-toggleable\"><input class=\"sk-toggleable__control sk-hidden--visually\" id=\"sk-estimator-id-1\" type=\"checkbox\" checked><label for=\"sk-estimator-id-1\" class=\"sk-toggleable__label sk-toggleable__label-arrow\">LinearRegression</label><div class=\"sk-toggleable__content\"><pre>LinearRegression()</pre></div></div></div></div></div>"
      ],
      "text/plain": [
       "LinearRegression()"
      ]
     },
     "execution_count": 23,
     "metadata": {},
     "output_type": "execute_result"
    }
   ],
   "source": [
    "linearRegression_model = LinearRegression()\n",
    "linearRegression_model.fit(X_train_scaled, Y_train)"
   ]
  },
  {
   "cell_type": "code",
   "execution_count": 25,
   "id": "30b18a63",
   "metadata": {},
   "outputs": [
    {
     "data": {
      "text/plain": [
       "0.6810853258626868"
      ]
     },
     "execution_count": 25,
     "metadata": {},
     "output_type": "execute_result"
    }
   ],
   "source": [
    "accuracy = linearRegression_model.score(X_test_scaled, Y_test)\n",
    "accuracy"
   ]
  },
  {
   "cell_type": "code",
   "execution_count": 27,
   "id": "2adf4c16",
   "metadata": {},
   "outputs": [
    {
     "name": "stderr",
     "output_type": "stream",
     "text": [
      "C:\\Users\\NARESH KUMAR SAW\\AppData\\Local\\Temp\\ipykernel_18540\\3105184180.py:3: DataConversionWarning: A column-vector y was passed when a 1d array was expected. Please change the shape of y to (n_samples,), for example using ravel().\n",
      "  rf_model.fit(X_train_scaled, Y_train)\n"
     ]
    },
    {
     "data": {
      "text/html": [
       "<style>#sk-container-id-2 {color: black;background-color: white;}#sk-container-id-2 pre{padding: 0;}#sk-container-id-2 div.sk-toggleable {background-color: white;}#sk-container-id-2 label.sk-toggleable__label {cursor: pointer;display: block;width: 100%;margin-bottom: 0;padding: 0.3em;box-sizing: border-box;text-align: center;}#sk-container-id-2 label.sk-toggleable__label-arrow:before {content: \"▸\";float: left;margin-right: 0.25em;color: #696969;}#sk-container-id-2 label.sk-toggleable__label-arrow:hover:before {color: black;}#sk-container-id-2 div.sk-estimator:hover label.sk-toggleable__label-arrow:before {color: black;}#sk-container-id-2 div.sk-toggleable__content {max-height: 0;max-width: 0;overflow: hidden;text-align: left;background-color: #f0f8ff;}#sk-container-id-2 div.sk-toggleable__content pre {margin: 0.2em;color: black;border-radius: 0.25em;background-color: #f0f8ff;}#sk-container-id-2 input.sk-toggleable__control:checked~div.sk-toggleable__content {max-height: 200px;max-width: 100%;overflow: auto;}#sk-container-id-2 input.sk-toggleable__control:checked~label.sk-toggleable__label-arrow:before {content: \"▾\";}#sk-container-id-2 div.sk-estimator input.sk-toggleable__control:checked~label.sk-toggleable__label {background-color: #d4ebff;}#sk-container-id-2 div.sk-label input.sk-toggleable__control:checked~label.sk-toggleable__label {background-color: #d4ebff;}#sk-container-id-2 input.sk-hidden--visually {border: 0;clip: rect(1px 1px 1px 1px);clip: rect(1px, 1px, 1px, 1px);height: 1px;margin: -1px;overflow: hidden;padding: 0;position: absolute;width: 1px;}#sk-container-id-2 div.sk-estimator {font-family: monospace;background-color: #f0f8ff;border: 1px dotted black;border-radius: 0.25em;box-sizing: border-box;margin-bottom: 0.5em;}#sk-container-id-2 div.sk-estimator:hover {background-color: #d4ebff;}#sk-container-id-2 div.sk-parallel-item::after {content: \"\";width: 100%;border-bottom: 1px solid gray;flex-grow: 1;}#sk-container-id-2 div.sk-label:hover label.sk-toggleable__label {background-color: #d4ebff;}#sk-container-id-2 div.sk-serial::before {content: \"\";position: absolute;border-left: 1px solid gray;box-sizing: border-box;top: 0;bottom: 0;left: 50%;z-index: 0;}#sk-container-id-2 div.sk-serial {display: flex;flex-direction: column;align-items: center;background-color: white;padding-right: 0.2em;padding-left: 0.2em;position: relative;}#sk-container-id-2 div.sk-item {position: relative;z-index: 1;}#sk-container-id-2 div.sk-parallel {display: flex;align-items: stretch;justify-content: center;background-color: white;position: relative;}#sk-container-id-2 div.sk-item::before, #sk-container-id-2 div.sk-parallel-item::before {content: \"\";position: absolute;border-left: 1px solid gray;box-sizing: border-box;top: 0;bottom: 0;left: 50%;z-index: -1;}#sk-container-id-2 div.sk-parallel-item {display: flex;flex-direction: column;z-index: 1;position: relative;background-color: white;}#sk-container-id-2 div.sk-parallel-item:first-child::after {align-self: flex-end;width: 50%;}#sk-container-id-2 div.sk-parallel-item:last-child::after {align-self: flex-start;width: 50%;}#sk-container-id-2 div.sk-parallel-item:only-child::after {width: 0;}#sk-container-id-2 div.sk-dashed-wrapped {border: 1px dashed gray;margin: 0 0.4em 0.5em 0.4em;box-sizing: border-box;padding-bottom: 0.4em;background-color: white;}#sk-container-id-2 div.sk-label label {font-family: monospace;font-weight: bold;display: inline-block;line-height: 1.2em;}#sk-container-id-2 div.sk-label-container {text-align: center;}#sk-container-id-2 div.sk-container {/* jupyter's `normalize.less` sets `[hidden] { display: none; }` but bootstrap.min.css set `[hidden] { display: none !important; }` so we also need the `!important` here to be able to override the default hidden behavior on the sphinx rendered scikit-learn.org. See: https://github.com/scikit-learn/scikit-learn/issues/21755 */display: inline-block !important;position: relative;}#sk-container-id-2 div.sk-text-repr-fallback {display: none;}</style><div id=\"sk-container-id-2\" class=\"sk-top-container\"><div class=\"sk-text-repr-fallback\"><pre>RandomForestRegressor(max_depth=10, n_estimators=50, n_jobs=-1)</pre><b>In a Jupyter environment, please rerun this cell to show the HTML representation or trust the notebook. <br />On GitHub, the HTML representation is unable to render, please try loading this page with nbviewer.org.</b></div><div class=\"sk-container\" hidden><div class=\"sk-item\"><div class=\"sk-estimator sk-toggleable\"><input class=\"sk-toggleable__control sk-hidden--visually\" id=\"sk-estimator-id-2\" type=\"checkbox\" checked><label for=\"sk-estimator-id-2\" class=\"sk-toggleable__label sk-toggleable__label-arrow\">RandomForestRegressor</label><div class=\"sk-toggleable__content\"><pre>RandomForestRegressor(max_depth=10, n_estimators=50, n_jobs=-1)</pre></div></div></div></div></div>"
      ],
      "text/plain": [
       "RandomForestRegressor(max_depth=10, n_estimators=50, n_jobs=-1)"
      ]
     },
     "execution_count": 27,
     "metadata": {},
     "output_type": "execute_result"
    }
   ],
   "source": [
    "from sklearn.ensemble import RandomForestRegressor\n",
    "rf_model = RandomForestRegressor(n_estimators=50, max_depth=10, n_jobs=-1)\n",
    "rf_model.fit(X_train_scaled, Y_train)"
   ]
  },
  {
   "cell_type": "code",
   "execution_count": 28,
   "id": "97c2b39a",
   "metadata": {},
   "outputs": [
    {
     "data": {
      "text/plain": [
       "0.8837032633242217"
      ]
     },
     "execution_count": 28,
     "metadata": {},
     "output_type": "execute_result"
    }
   ],
   "source": [
    "rf_model.score(X_test_scaled, Y_test)"
   ]
  }
 ],
 "metadata": {
  "kernelspec": {
   "display_name": "Python 3 (ipykernel)",
   "language": "python",
   "name": "python3"
  },
  "language_info": {
   "codemirror_mode": {
    "name": "ipython",
    "version": 3
   },
   "file_extension": ".py",
   "mimetype": "text/x-python",
   "name": "python",
   "nbconvert_exporter": "python",
   "pygments_lexer": "ipython3",
   "version": "3.10.4"
  }
 },
 "nbformat": 4,
 "nbformat_minor": 5
}
